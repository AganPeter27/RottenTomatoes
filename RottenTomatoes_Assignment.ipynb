{
  "nbformat": 4,
  "nbformat_minor": 0,
  "metadata": {
    "colab": {
      "provenance": []
    },
    "kernelspec": {
      "name": "python3",
      "display_name": "Python 3"
    },
    "language_info": {
      "name": "python"
    }
  },
  "cells": [
    {
      "cell_type": "code",
      "execution_count": 1,
      "metadata": {
        "colab": {
          "base_uri": "https://localhost:8080/"
        },
        "id": "asxdAZigGDG_",
        "outputId": "fe732540-14f5-45d8-f9b0-89a51b268e77"
      },
      "outputs": [
        {
          "output_type": "stream",
          "name": "stdout",
          "text": [
            "Mounted at /content/drive\n"
          ]
        }
      ],
      "source": [
        "from google.colab import drive\n",
        "\n",
        "drive.mount('/content/drive')"
      ]
    },
    {
      "cell_type": "code",
      "source": [
        "import pandas as pd\n",
        "import numpy as np\n",
        "\n",
        "\n",
        "reviews = pd.read_csv('/content/drive/MyDrive/rt_reviews.csv',encoding='latin-1')\n",
        "\n",
        "reviews = reviews.sample(frac=1, random_state=42).reset_index(drop=True)\n",
        "\n",
        "# Dividing the dataset\n",
        "train_size = int(0.5 * len(reviews))\n",
        "dev_size = int(0.25 * len(reviews))\n",
        "train_data = reviews[:train_size]\n",
        "dev_data = reviews[train_size:train_size+dev_size]\n",
        "test_data = reviews[train_size+dev_size:]\n",
        "\n",
        "vocab = {}\n",
        "for review in train_data['Review']:\n",
        "    words = review.lower().split()\n",
        "    for word in words:\n",
        "        if word in vocab:\n",
        "            vocab[word] += 1\n",
        "        else:\n",
        "            vocab[word] = 1\n",
        "\n",
        "# Remove words\n",
        "vocab = {k:v for k,v in vocab.items() if v >= 5}\n",
        "\n",
        "vocab_list = sorted(list(vocab.keys()))\n",
        "vocab_size = len(vocab_list)\n",
        "reverse_vocab = {word:i for i, word in enumerate(vocab_list)}\n",
        "\n",
        "\n",
        "occurrence_prob = {}\n",
        "for word, count in vocab.items():\n",
        "    occurrence_prob[word] = count / len(train_data)\n",
        "\n",
        "positive_data = train_data[train_data['Freshness'] == 'fresh']\n",
        "negative_data = train_data[train_data['Freshness'] == 'rotten']\n",
        "positive_reviews = ' '.join(positive_data['Review']).lower()\n",
        "negative_reviews = ' '.join(negative_data['Review']).lower()\n",
        "\n",
        "cond_prob_positive = {}\n",
        "cond_prob_negative = {}\n",
        "for word in vocab_list:\n",
        "    count_positive = positive_reviews.count(word)\n",
        "    count_negative = negative_reviews.count(word)\n",
        "    cond_prob_positive[word] = (count_positive + 1) / (len(positive_data) + vocab_size)\n",
        "    cond_prob_negative[word] = (count_negative + 1) / (len(negative_data) + vocab_size)\n",
        "\n",
        "# accuracy\n",
        "def predict(review):\n",
        "    words = review.lower().split()\n",
        "    positive_score = 0\n",
        "    negative_score = 0\n",
        "    for word in words:\n",
        "        if word in vocab:\n",
        "            positive_score += np.log(cond_prob_positive[word])\n",
        "            negative_score += np.log(cond_prob_negative[word])\n",
        "    positive_score += np.log(len(positive_data) / len(train_data))\n",
        "    negative_score += np.log(len(negative_data) / len(train_data))\n",
        "    if positive_score >= negative_score:\n",
        "        return 'fresh'\n",
        "    else:\n",
        "        return 'rotten'\n",
        "\n",
        "correct = 0\n",
        "total = len(dev_data)\n",
        "for _, row in dev_data.iterrows():\n",
        "    predicted = predict(row['Review'])\n",
        "    if predicted == row['Freshness']:\n",
        "        correct += 1\n",
        "\n",
        "accuracy = correct / total\n",
        "print(f\"Accuracy on dev dataset: {accuracy:.4f}\")\n"
      ],
      "metadata": {
        "colab": {
          "base_uri": "https://localhost:8080/"
        },
        "id": "LZijmt4TGHNQ",
        "outputId": "fa260746-0c99-46ea-a204-e95eacfa5956"
      },
      "execution_count": 5,
      "outputs": [
        {
          "output_type": "stream",
          "name": "stdout",
          "text": [
            "Accuracy on dev dataset: 0.7884\n"
          ]
        }
      ]
    },
    {
      "cell_type": "code",
      "source": [],
      "metadata": {
        "id": "Fn371ETqGVJ5"
      },
      "execution_count": null,
      "outputs": []
    }
  ]
}